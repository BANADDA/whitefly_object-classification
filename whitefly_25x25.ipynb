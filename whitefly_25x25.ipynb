{
  "cells": [
    {
      "cell_type": "markdown",
      "metadata": {
        "id": "view-in-github",
        "colab_type": "text"
      },
      "source": [
        "<a href=\"https://colab.research.google.com/github/BANADDA/whitefly_object-classification/blob/main/whitefly_25x25.ipynb\" target=\"_parent\"><img src=\"https://colab.research.google.com/assets/colab-badge.svg\" alt=\"Open In Colab\"/></a>"
      ]
    },
    {
      "cell_type": "code",
      "source": [
        "from google.colab import drive\n",
        "drive.mount('/content/gdrive')"
      ],
      "metadata": {
        "colab": {
          "base_uri": "https://localhost:8080/"
        },
        "id": "PSUVA43yRWLX",
        "outputId": "98e78639-9320-40e8-ca6d-b7d10445ce73"
      },
      "execution_count": 48,
      "outputs": [
        {
          "output_type": "stream",
          "name": "stdout",
          "text": [
            "Drive already mounted at /content/gdrive; to attempt to forcibly remount, call drive.mount(\"/content/gdrive\", force_remount=True).\n"
          ]
        }
      ]
    },
    {
      "cell_type": "code",
      "source": [
        "%cd /content/gdrive/MyDrive/images"
      ],
      "metadata": {
        "colab": {
          "base_uri": "https://localhost:8080/"
        },
        "id": "vhxu2LCuR2EN",
        "outputId": "fdba3541-7832-4ef5-d1e2-efd34e756ba9"
      },
      "execution_count": 49,
      "outputs": [
        {
          "output_type": "stream",
          "name": "stdout",
          "text": [
            "/content/gdrive/MyDrive/images\n"
          ]
        }
      ]
    },
    {
      "cell_type": "code",
      "execution_count": 50,
      "metadata": {
        "id": "oWO4NvRTREGu"
      },
      "outputs": [],
      "source": [
        "from numpy.random import seed\n",
        "seed(1)\n",
        "import os\n",
        "import keras\n",
        "from tensorflow.keras.preprocessing.image import ImageDataGenerator\n",
        "from tensorflow.keras.models import Sequential, load_model\n",
        "from tensorflow.keras.layers import Flatten, Dense, Dropout, Conv2D, MaxPooling2D, Conv3D\n",
        "from tensorflow.keras.optimizers import RMSprop, SGD\n",
        "from tensorflow.keras.losses import binary_crossentropy\n",
        "from tensorflow.keras.callbacks import ModelCheckpoint\n",
        "from tensorflow.keras.preprocessing.image import ImageDataGenerator\n",
        "from time import strftime, localtime"
      ]
    },
    {
      "cell_type": "code",
      "execution_count": 51,
      "metadata": {
        "id": "Jb7xNwzsREG4"
      },
      "outputs": [],
      "source": [
        "from sklearn.metrics import confusion_matrix"
      ]
    },
    {
      "cell_type": "markdown",
      "metadata": {
        "id": "4GuPCkMmREG5"
      },
      "source": [
        "# Model definition"
      ]
    },
    {
      "cell_type": "code",
      "execution_count": 52,
      "metadata": {
        "id": "7t01IcPMREG8"
      },
      "outputs": [],
      "source": [
        "# Instatiate model\n",
        "model = Sequential()"
      ]
    },
    {
      "cell_type": "code",
      "execution_count": 53,
      "metadata": {
        "id": "xJDCqUeAREG-"
      },
      "outputs": [],
      "source": [
        "model.add(Conv2D(256, kernel_size=(5, 5), input_shape=(25, 25, 3), activation='relu', padding='same'))\n",
        "model.add(MaxPooling2D(pool_size=(2,2)))\n",
        "model.add(Conv2D(256, kernel_size=(5,5), activation='relu'))\n",
        "model.add(MaxPooling2D(pool_size=(2,2)))\n",
        "model.add(Conv2D(256, kernel_size=(3,3), activation='relu'))\n",
        "model.add(MaxPooling2D(pool_size=(2,2)))\n",
        "model.add(Flatten())\n",
        "# # model.add(Dense(8, activation='relu'))\n",
        "# model.add(Dropout(0.5))\n",
        "# # model.add(Dense(8, activation='relu'))\n",
        "# # model.add(Dropout(0.5))\n",
        "model.add(Dense(1, activation='sigmoid'))"
      ]
    },
    {
      "cell_type": "code",
      "execution_count": 54,
      "metadata": {
        "colab": {
          "base_uri": "https://localhost:8080/"
        },
        "id": "vNK4oETpREG_",
        "outputId": "003589ae-2c7f-4e40-8d6c-0a403fe96e50"
      },
      "outputs": [
        {
          "output_type": "stream",
          "name": "stdout",
          "text": [
            "Model: \"sequential_3\"\n",
            "_________________________________________________________________\n",
            " Layer (type)                Output Shape              Param #   \n",
            "=================================================================\n",
            " conv2d_9 (Conv2D)           (None, 25, 25, 256)       19456     \n",
            "                                                                 \n",
            " max_pooling2d_9 (MaxPooling  (None, 12, 12, 256)      0         \n",
            " 2D)                                                             \n",
            "                                                                 \n",
            " conv2d_10 (Conv2D)          (None, 8, 8, 256)         1638656   \n",
            "                                                                 \n",
            " max_pooling2d_10 (MaxPoolin  (None, 4, 4, 256)        0         \n",
            " g2D)                                                            \n",
            "                                                                 \n",
            " conv2d_11 (Conv2D)          (None, 2, 2, 256)         590080    \n",
            "                                                                 \n",
            " max_pooling2d_11 (MaxPoolin  (None, 1, 1, 256)        0         \n",
            " g2D)                                                            \n",
            "                                                                 \n",
            " flatten_3 (Flatten)         (None, 256)               0         \n",
            "                                                                 \n",
            " dense_3 (Dense)             (None, 1)                 257       \n",
            "                                                                 \n",
            "=================================================================\n",
            "Total params: 2,248,449\n",
            "Trainable params: 2,248,449\n",
            "Non-trainable params: 0\n",
            "_________________________________________________________________\n"
          ]
        }
      ],
      "source": [
        "model.summary()"
      ]
    },
    {
      "cell_type": "code",
      "execution_count": 55,
      "metadata": {
        "colab": {
          "base_uri": "https://localhost:8080/"
        },
        "id": "Vh8ZhohEREHA",
        "outputId": "6c53209e-8afe-456e-f96d-ad7d15bd4c4f"
      },
      "outputs": [
        {
          "output_type": "stream",
          "name": "stderr",
          "text": [
            "/usr/local/lib/python3.7/dist-packages/keras/optimizer_v2/gradient_descent.py:102: UserWarning: The `lr` argument is deprecated, use `learning_rate` instead.\n",
            "  super(SGD, self).__init__(name, **kwargs)\n"
          ]
        }
      ],
      "source": [
        "model.compile(optimizer=SGD(lr=0.0001), loss = 'binary_crossentropy',metrics=['accuracy'])"
      ]
    },
    {
      "cell_type": "code",
      "execution_count": 56,
      "metadata": {
        "colab": {
          "base_uri": "https://localhost:8080/",
          "height": 35
        },
        "id": "xjQfHL9LREHB",
        "outputId": "7752281b-21b4-414a-ff84-3f19f011a06c"
      },
      "outputs": [
        {
          "output_type": "execute_result",
          "data": {
            "text/plain": [
              "'/content/gdrive/MyDrive/weights/07-01-2022_07:46:42_weights.{epoch:02d}.h5'"
            ],
            "application/vnd.google.colaboratory.intrinsic+json": {
              "type": "string"
            }
          },
          "metadata": {},
          "execution_count": 56
        }
      ],
      "source": [
        "paths = \"/content/gdrive/MyDrive/weights/\"+strftime(\"%m-%d-%Y_%H:%M:%S\")+\"_weights.{epoch:02d}.h5\"\n",
        "paths"
      ]
    },
    {
      "cell_type": "code",
      "execution_count": 99,
      "metadata": {
        "colab": {
          "base_uri": "https://localhost:8080/"
        },
        "id": "tzXcjxROREHC",
        "outputId": "5e774916-dad9-45e9-efd3-f49438d95b72"
      },
      "outputs": [
        {
          "output_type": "stream",
          "name": "stdout",
          "text": [
            "/content/gdrive/MyDrive/weights/weights.{epoch:02d}.h5\n"
          ]
        }
      ],
      "source": [
        " paths = \"/content/gdrive/MyDrive/weights/weights.{epoch:02d}.h5\"\n",
        " print(paths)\n",
        "monitor_progress = ModelCheckpoint(paths,monitor=\"val_accuracy\", verbose=1, save_best_only=True)"
      ]
    },
    {
      "cell_type": "markdown",
      "metadata": {
        "id": "AMoHkgggREHD"
      },
      "source": [
        "# Data Preparation"
      ]
    },
    {
      "cell_type": "code",
      "execution_count": 58,
      "metadata": {
        "id": "fDqaYrZBREHE"
      },
      "outputs": [],
      "source": [
        "base_dir ='/content/gdrive/MyDrive/images/extracted_25x25'\n",
        "traindir = os.path.join(base_dir,\"train_balanced\")\n",
        "validationdir = os.path.join(base_dir,\"validation\")\n",
        "testdir = os.path.join(base_dir,\"test\") \n",
        "patch_size=25"
      ]
    },
    {
      "cell_type": "code",
      "execution_count": 59,
      "metadata": {
        "id": "2faZe9yaREHF"
      },
      "outputs": [],
      "source": [
        "traindatagen = ImageDataGenerator(horizontal_flip=True,rotation_range=20,rescale=1/225.)\n",
        "validationdatagen = ImageDataGenerator(rescale=1/225.)\n",
        "testdatagen = ImageDataGenerator(rescale=1/225.)"
      ]
    },
    {
      "cell_type": "code",
      "execution_count": 60,
      "metadata": {
        "colab": {
          "base_uri": "https://localhost:8080/"
        },
        "id": "b7soWiQbREHG",
        "outputId": "352bba14-18d3-4470-979b-d2adb9a63550"
      },
      "outputs": [
        {
          "output_type": "stream",
          "name": "stdout",
          "text": [
            "Found 2398 images belonging to 2 classes.\n",
            "Found 649 images belonging to 2 classes.\n",
            "Found 430 images belonging to 2 classes.\n"
          ]
        }
      ],
      "source": [
        "traingen = traindatagen.flow_from_directory(\n",
        "                                directory=traindir,\n",
        "                                target_size=(patch_size,patch_size),\n",
        "                                batch_size = 8,\n",
        "                                class_mode='binary')\n",
        "validationgen = validationdatagen.flow_from_directory(\n",
        "                                directory=validationdir,\n",
        "                                target_size=(patch_size,patch_size),\n",
        "                                batch_size = 8,\n",
        "                                class_mode='binary')\n",
        "testgen = testdatagen.flow_from_directory(\n",
        "                                directory=testdir,\n",
        "                                target_size=(patch_size,patch_size),\n",
        "                                batch_size = 8,                                \n",
        "                                class_mode='binary')"
      ]
    },
    {
      "cell_type": "code",
      "execution_count": 61,
      "metadata": {
        "colab": {
          "base_uri": "https://localhost:8080/"
        },
        "id": "_Ce0jtv_REHH",
        "outputId": "2b0963c1-64d9-4b68-a36f-78e1e30dccec"
      },
      "outputs": [
        {
          "output_type": "execute_result",
          "data": {
            "text/plain": [
              "{'negative': 0, 'positive': 1}"
            ]
          },
          "metadata": {},
          "execution_count": 61
        }
      ],
      "source": [
        "validationgen.class_indices"
      ]
    },
    {
      "cell_type": "code",
      "execution_count": 92,
      "metadata": {
        "id": "0NPV4RtNREHI"
      },
      "outputs": [],
      "source": [
        "# x,y = traingen"
      ]
    },
    {
      "cell_type": "code",
      "execution_count": 93,
      "metadata": {
        "id": "QUfNGCiKREHJ"
      },
      "outputs": [],
      "source": [
        "import numpy as np\n",
        "# x = np.concatenate([traingen.next()[0] for i in range(traingen.__len__())])\n",
        "# y = np.concatenate([traingen.next()[1] for i in range(traingen.__len__())])"
      ]
    },
    {
      "cell_type": "code",
      "execution_count": 94,
      "metadata": {
        "id": "K9n1r97kREHJ"
      },
      "outputs": [],
      "source": [
        "# def train_step(self, data):\n",
        "#         # Unpack data\n",
        "#         x, y = data"
      ]
    },
    {
      "cell_type": "code",
      "execution_count": 95,
      "metadata": {
        "id": "XyQ_LcAZREHK"
      },
      "outputs": [],
      "source": [
        "# traingen.__len__()"
      ]
    },
    {
      "cell_type": "code",
      "execution_count": 66,
      "metadata": {
        "colab": {
          "base_uri": "https://localhost:8080/"
        },
        "id": "9fHYSOEOREHL",
        "outputId": "b14d7d78-a9af-415d-d4cb-7340281a0591"
      },
      "outputs": [
        {
          "output_type": "execute_result",
          "data": {
            "text/plain": [
              "206.125"
            ]
          },
          "metadata": {},
          "execution_count": 66
        }
      ],
      "source": [
        "1649/8"
      ]
    },
    {
      "cell_type": "code",
      "source": [
        "history = model.fit(\n",
        "                    traingen,\n",
        "                    epochs=150,\n",
        "                    callbacks=[monitor_progress],\n",
        "                    validation_data=validationgen)"
      ],
      "metadata": {
        "colab": {
          "base_uri": "https://localhost:8080/"
        },
        "id": "6kNxWZUJ1tD4",
        "outputId": "7fa50b14-0930-44ad-b1a4-a6210915fb79"
      },
      "execution_count": null,
      "outputs": [
        {
          "output_type": "stream",
          "name": "stdout",
          "text": [
            "Epoch 1/150\n",
            "300/300 [==============================] - ETA: 0s - loss: 0.5469 - accuracy: 0.7127\n",
            "Epoch 1: val_accuracy improved from 0.46687 to 0.51310, saving model to /content/gdrive/MyDrive/weights/weights.01.h5\n",
            "300/300 [==============================] - 49s 164ms/step - loss: 0.5469 - accuracy: 0.7127 - val_loss: 0.7045 - val_accuracy: 0.5131\n",
            "Epoch 2/150\n",
            "300/300 [==============================] - ETA: 0s - loss: 0.5431 - accuracy: 0.7269\n",
            "Epoch 2: val_accuracy improved from 0.51310 to 0.54854, saving model to /content/gdrive/MyDrive/weights/weights.02.h5\n",
            "300/300 [==============================] - 51s 168ms/step - loss: 0.5431 - accuracy: 0.7269 - val_loss: 0.6991 - val_accuracy: 0.5485\n",
            "Epoch 3/150\n",
            "300/300 [==============================] - ETA: 0s - loss: 0.5395 - accuracy: 0.7523\n",
            "Epoch 3: val_accuracy improved from 0.54854 to 0.56703, saving model to /content/gdrive/MyDrive/weights/weights.03.h5\n",
            "300/300 [==============================] - 48s 160ms/step - loss: 0.5395 - accuracy: 0.7523 - val_loss: 0.6949 - val_accuracy: 0.5670\n",
            "Epoch 4/150\n",
            "300/300 [==============================] - ETA: 0s - loss: 0.5358 - accuracy: 0.7681\n",
            "Epoch 4: val_accuracy improved from 0.56703 to 0.59630, saving model to /content/gdrive/MyDrive/weights/weights.04.h5\n",
            "300/300 [==============================] - 48s 160ms/step - loss: 0.5358 - accuracy: 0.7681 - val_loss: 0.6895 - val_accuracy: 0.5963\n",
            "Epoch 5/150\n",
            "300/300 [==============================] - ETA: 0s - loss: 0.5321 - accuracy: 0.7907\n",
            "Epoch 5: val_accuracy improved from 0.59630 to 0.63020, saving model to /content/gdrive/MyDrive/weights/weights.05.h5\n",
            "300/300 [==============================] - 50s 168ms/step - loss: 0.5321 - accuracy: 0.7907 - val_loss: 0.6846 - val_accuracy: 0.6302\n",
            "Epoch 6/150\n",
            "300/300 [==============================] - ETA: 0s - loss: 0.5283 - accuracy: 0.8053\n",
            "Epoch 6: val_accuracy improved from 0.63020 to 0.66410, saving model to /content/gdrive/MyDrive/weights/weights.06.h5\n",
            "300/300 [==============================] - 49s 163ms/step - loss: 0.5283 - accuracy: 0.8053 - val_loss: 0.6790 - val_accuracy: 0.6641\n",
            "Epoch 7/150\n",
            "300/300 [==============================] - ETA: 0s - loss: 0.5244 - accuracy: 0.8249\n",
            "Epoch 7: val_accuracy improved from 0.66410 to 0.69492, saving model to /content/gdrive/MyDrive/weights/weights.07.h5\n",
            "300/300 [==============================] - 49s 162ms/step - loss: 0.5244 - accuracy: 0.8249 - val_loss: 0.6737 - val_accuracy: 0.6949\n",
            "Epoch 8/150\n",
            "300/300 [==============================] - ETA: 0s - loss: 0.5205 - accuracy: 0.8415\n",
            "Epoch 8: val_accuracy improved from 0.69492 to 0.71032, saving model to /content/gdrive/MyDrive/weights/weights.08.h5\n",
            "300/300 [==============================] - 49s 162ms/step - loss: 0.5205 - accuracy: 0.8415 - val_loss: 0.6685 - val_accuracy: 0.7103\n",
            "Epoch 9/150\n",
            "300/300 [==============================] - ETA: 0s - loss: 0.5165 - accuracy: 0.8545\n",
            "Epoch 9: val_accuracy improved from 0.71032 to 0.73806, saving model to /content/gdrive/MyDrive/weights/weights.09.h5\n",
            "300/300 [==============================] - 50s 167ms/step - loss: 0.5165 - accuracy: 0.8545 - val_loss: 0.6623 - val_accuracy: 0.7381\n",
            "Epoch 10/150\n",
            "300/300 [==============================] - ETA: 0s - loss: 0.5125 - accuracy: 0.8645\n",
            "Epoch 10: val_accuracy improved from 0.73806 to 0.75655, saving model to /content/gdrive/MyDrive/weights/weights.10.h5\n",
            "300/300 [==============================] - 48s 161ms/step - loss: 0.5125 - accuracy: 0.8645 - val_loss: 0.6559 - val_accuracy: 0.7565\n",
            "Epoch 11/150\n",
            "300/300 [==============================] - ETA: 0s - loss: 0.5084 - accuracy: 0.8728\n",
            "Epoch 11: val_accuracy improved from 0.75655 to 0.77042, saving model to /content/gdrive/MyDrive/weights/weights.11.h5\n",
            "300/300 [==============================] - 49s 162ms/step - loss: 0.5084 - accuracy: 0.8728 - val_loss: 0.6496 - val_accuracy: 0.7704\n",
            "Epoch 12/150\n",
            "300/300 [==============================] - ETA: 0s - loss: 0.5043 - accuracy: 0.8803\n",
            "Epoch 12: val_accuracy improved from 0.77042 to 0.78582, saving model to /content/gdrive/MyDrive/weights/weights.12.h5\n",
            "300/300 [==============================] - 48s 161ms/step - loss: 0.5043 - accuracy: 0.8803 - val_loss: 0.6447 - val_accuracy: 0.7858\n",
            "Epoch 13/150\n",
            "300/300 [==============================] - ETA: 0s - loss: 0.5001 - accuracy: 0.8878\n",
            "Epoch 13: val_accuracy improved from 0.78582 to 0.80277, saving model to /content/gdrive/MyDrive/weights/weights.13.h5\n",
            "300/300 [==============================] - 50s 167ms/step - loss: 0.5001 - accuracy: 0.8878 - val_loss: 0.6403 - val_accuracy: 0.8028\n",
            "Epoch 14/150\n",
            "300/300 [==============================] - ETA: 0s - loss: 0.4959 - accuracy: 0.8924\n",
            "Epoch 14: val_accuracy improved from 0.80277 to 0.82280, saving model to /content/gdrive/MyDrive/weights/weights.14.h5\n",
            "300/300 [==============================] - 48s 161ms/step - loss: 0.4959 - accuracy: 0.8924 - val_loss: 0.6332 - val_accuracy: 0.8228\n",
            "Epoch 15/150\n",
            "300/300 [==============================] - ETA: 0s - loss: 0.4921 - accuracy: 0.9003\n",
            "Epoch 15: val_accuracy improved from 0.82280 to 0.83359, saving model to /content/gdrive/MyDrive/weights/weights.15.h5\n",
            "300/300 [==============================] - 48s 160ms/step - loss: 0.4921 - accuracy: 0.9003 - val_loss: 0.6279 - val_accuracy: 0.8336\n",
            "Epoch 16/150\n",
            "300/300 [==============================] - ETA: 0s - loss: 0.4878 - accuracy: 0.9037\n",
            "Epoch 16: val_accuracy improved from 0.83359 to 0.83513, saving model to /content/gdrive/MyDrive/weights/weights.16.h5\n",
            "300/300 [==============================] - 48s 160ms/step - loss: 0.4878 - accuracy: 0.9037 - val_loss: 0.6213 - val_accuracy: 0.8351\n",
            "Epoch 17/150\n",
            "300/300 [==============================] - ETA: 0s - loss: 0.4838 - accuracy: 0.9083\n",
            "Epoch 17: val_accuracy improved from 0.83513 to 0.83667, saving model to /content/gdrive/MyDrive/weights/weights.17.h5\n",
            "300/300 [==============================] - 50s 167ms/step - loss: 0.4838 - accuracy: 0.9083 - val_loss: 0.6184 - val_accuracy: 0.8367\n",
            "Epoch 18/150\n",
            "300/300 [==============================] - ETA: 0s - loss: 0.4795 - accuracy: 0.9103\n",
            "Epoch 18: val_accuracy improved from 0.83667 to 0.84592, saving model to /content/gdrive/MyDrive/weights/weights.18.h5\n",
            "300/300 [==============================] - 49s 162ms/step - loss: 0.4795 - accuracy: 0.9103 - val_loss: 0.6124 - val_accuracy: 0.8459\n",
            "Epoch 19/150\n",
            "300/300 [==============================] - ETA: 0s - loss: 0.4756 - accuracy: 0.9133\n",
            "Epoch 19: val_accuracy improved from 0.84592 to 0.85054, saving model to /content/gdrive/MyDrive/weights/weights.19.h5\n",
            "300/300 [==============================] - 49s 162ms/step - loss: 0.4756 - accuracy: 0.9133 - val_loss: 0.6056 - val_accuracy: 0.8505\n",
            "Epoch 20/150\n",
            "300/300 [==============================] - ETA: 0s - loss: 0.4713 - accuracy: 0.9170\n",
            "Epoch 20: val_accuracy improved from 0.85054 to 0.85670, saving model to /content/gdrive/MyDrive/weights/weights.20.h5\n",
            "300/300 [==============================] - 50s 166ms/step - loss: 0.4713 - accuracy: 0.9170 - val_loss: 0.6003 - val_accuracy: 0.8567\n",
            "Epoch 21/150\n",
            "300/300 [==============================] - ETA: 0s - loss: 0.4671 - accuracy: 0.9178\n",
            "Epoch 21: val_accuracy improved from 0.85670 to 0.85824, saving model to /content/gdrive/MyDrive/weights/weights.21.h5\n",
            "300/300 [==============================] - 49s 164ms/step - loss: 0.4671 - accuracy: 0.9178 - val_loss: 0.5966 - val_accuracy: 0.8582\n",
            "Epoch 22/150\n",
            "300/300 [==============================] - ETA: 0s - loss: 0.4632 - accuracy: 0.9204\n",
            "Epoch 22: val_accuracy improved from 0.85824 to 0.86441, saving model to /content/gdrive/MyDrive/weights/weights.22.h5\n",
            "300/300 [==============================] - 49s 163ms/step - loss: 0.4632 - accuracy: 0.9204 - val_loss: 0.5914 - val_accuracy: 0.8644\n",
            "Epoch 23/150\n",
            "300/300 [==============================] - ETA: 0s - loss: 0.4591 - accuracy: 0.9208\n",
            "Epoch 23: val_accuracy improved from 0.86441 to 0.87057, saving model to /content/gdrive/MyDrive/weights/weights.23.h5\n",
            "300/300 [==============================] - 49s 162ms/step - loss: 0.4591 - accuracy: 0.9208 - val_loss: 0.5840 - val_accuracy: 0.8706\n",
            "Epoch 24/150\n",
            "300/300 [==============================] - ETA: 0s - loss: 0.4549 - accuracy: 0.9224\n",
            "Epoch 24: val_accuracy improved from 0.87057 to 0.87827, saving model to /content/gdrive/MyDrive/weights/weights.24.h5\n",
            "300/300 [==============================] - 49s 162ms/step - loss: 0.4549 - accuracy: 0.9224 - val_loss: 0.5769 - val_accuracy: 0.8783\n",
            "Epoch 25/150\n",
            " 98/300 [========>.....................] - ETA: 30s - loss: 0.4569 - accuracy: 0.9286"
          ]
        }
      ]
    },
    {
      "cell_type": "code",
      "execution_count": null,
      "metadata": {
        "id": "NEcxspAvREHN"
      },
      "outputs": [],
      "source": [
        "model.evaluate(testgen)"
      ]
    },
    {
      "cell_type": "code",
      "execution_count": 74,
      "metadata": {
        "scrolled": false,
        "colab": {
          "base_uri": "https://localhost:8080/",
          "height": 573
        },
        "id": "dW_dPgGSREHO",
        "outputId": "ff36ead5-9de8-4566-e4b6-9ea82253bd09"
      },
      "outputs": [
        {
          "output_type": "display_data",
          "data": {
            "text/plain": [
              "<Figure size 432x288 with 1 Axes>"
            ],
            "image/png": "[encoded data removed]"
          },
          "metadata": {
            "needs_background": "light"
          }
        },
        {
          "output_type": "display_data",
          "data": {
            "text/plain": [
              "<Figure size 432x288 with 1 Axes>"
            ],
            "image/png": "[encoded data removed]"
          },
          "metadata": {
            "needs_background": "light"
          }
        }
      ],
      "source": [
        "import matplotlib.pyplot as plt\n",
        "%matplotlib inline\n",
        "\n",
        "# summarize history for accuracy\n",
        "plt.plot(history.history['accuracy'])\n",
        "plt.plot(history.history['val_accuracy'])\n",
        "plt.title('model accuracy')\n",
        "plt.ylabel('accuracy')\n",
        "plt.xlabel('epoch')\n",
        "plt.legend(['train', 'test'], loc='upper left')\n",
        "plt.savefig(\"acc_31_05_19.png\")\n",
        "plt.show()\n",
        "# summarize history for loss\n",
        "plt.plot(history.history['loss'])\n",
        "plt.plot(history.history['val_loss'])\n",
        "plt.title('model loss')\n",
        "plt.ylabel('loss')\n",
        "plt.xlabel('epoch')\n",
        "plt.legend(['train', 'test'], loc='upper left')\n",
        "plt.savefig(\"loss_31_05_19.png\")\n",
        "plt.show()"
      ]
    },
    {
      "cell_type": "code",
      "source": [
        "testgen.classes"
      ],
      "metadata": {
        "colab": {
          "base_uri": "https://localhost:8080/"
        },
        "id": "WnejmAEbPXfs",
        "outputId": "57124fda-77c0-4119-94c2-9f8d835ad0de"
      },
      "execution_count": 101,
      "outputs": [
        {
          "output_type": "execute_result",
          "data": {
            "text/plain": [
              "array([0, 0, 0, 0, 0, 0, 0, 0, 0, 0, 0, 0, 0, 0, 0, 0, 0, 0, 0, 0, 0, 0,\n",
              "       0, 0, 0, 0, 0, 0, 0, 0, 0, 0, 0, 0, 0, 0, 0, 0, 0, 0, 0, 0, 0, 0,\n",
              "       0, 0, 0, 0, 0, 0, 0, 0, 0, 0, 0, 0, 0, 0, 0, 0, 0, 0, 0, 0, 0, 0,\n",
              "       0, 0, 0, 0, 0, 0, 0, 0, 0, 0, 0, 0, 0, 0, 0, 0, 0, 0, 0, 0, 0, 0,\n",
              "       0, 0, 0, 0, 0, 0, 0, 0, 0, 0, 0, 0, 0, 0, 0, 0, 0, 0, 0, 0, 0, 0,\n",
              "       0, 0, 0, 0, 0, 0, 0, 0, 0, 0, 0, 0, 0, 0, 0, 0, 0, 0, 0, 0, 0, 0,\n",
              "       0, 0, 0, 0, 0, 0, 0, 0, 0, 0, 0, 0, 0, 0, 0, 0, 0, 0, 0, 0, 0, 0,\n",
              "       0, 0, 0, 0, 0, 0, 0, 0, 0, 0, 0, 0, 0, 0, 0, 0, 0, 0, 0, 0, 0, 0,\n",
              "       0, 0, 0, 0, 0, 0, 0, 0, 0, 0, 0, 0, 0, 0, 0, 0, 0, 0, 0, 0, 0, 0,\n",
              "       0, 0, 0, 0, 0, 0, 0, 0, 0, 0, 0, 0, 0, 0, 0, 0, 0, 0, 0, 0, 0, 0,\n",
              "       0, 0, 0, 0, 0, 0, 0, 0, 0, 0, 0, 0, 0, 0, 0, 0, 0, 0, 0, 0, 0, 0,\n",
              "       0, 0, 0, 0, 0, 0, 0, 0, 0, 0, 0, 0, 0, 0, 0, 0, 0, 0, 0, 0, 0, 0,\n",
              "       0, 0, 0, 0, 0, 0, 0, 0, 0, 0, 0, 0, 0, 0, 0, 0, 0, 0, 0, 0, 0, 0,\n",
              "       0, 0, 0, 0, 0, 0, 0, 0, 0, 0, 0, 0, 0, 0, 0, 0, 0, 0, 0, 0, 0, 0,\n",
              "       0, 0, 0, 0, 0, 0, 0, 0, 0, 0, 0, 0, 0, 0, 0, 0, 0, 0, 0, 0, 0, 0,\n",
              "       0, 0, 0, 0, 0, 0, 0, 0, 0, 0, 0, 0, 0, 0, 0, 0, 0, 0, 0, 0, 0, 0,\n",
              "       0, 0, 1, 1, 1, 1, 1, 1, 1, 1, 1, 1, 1, 1, 1, 1, 1, 1, 1, 1, 1, 1,\n",
              "       1, 1, 1, 1, 1, 1, 1, 1, 1, 1, 1, 1, 1, 1, 1, 1, 1, 1, 1, 1, 1, 1,\n",
              "       1, 1, 1, 1, 1, 1, 1, 1, 1, 1, 1, 1, 1, 1, 1, 1, 1, 1, 1, 1, 1, 1,\n",
              "       1, 1, 1, 1, 1, 1, 1, 1, 1, 1, 1, 1], dtype=int32)"
            ]
          },
          "metadata": {},
          "execution_count": 101
        }
      ]
    },
    {
      "cell_type": "code",
      "source": [
        "model.predict (testgen)"
      ],
      "metadata": {
        "colab": {
          "base_uri": "https://localhost:8080/"
        },
        "id": "Dm3KDPgpPgDo",
        "outputId": "b25c8163-09ae-4b10-ba5f-3699d9bd1c7f"
      },
      "execution_count": 102,
      "outputs": [
        {
          "output_type": "execute_result",
          "data": {
            "text/plain": [
              "array([[0.46057868],\n",
              "       [0.5869606 ],\n",
              "       [0.5487985 ],\n",
              "       [0.5062269 ],\n",
              "       [0.5480211 ],\n",
              "       [0.47059268],\n",
              "       [0.5125758 ],\n",
              "       [0.4982795 ],\n",
              "       [0.7527586 ],\n",
              "       [0.5714222 ],\n",
              "       [0.5604207 ],\n",
              "       [0.5262432 ],\n",
              "       [0.55281126],\n",
              "       [0.7779657 ],\n",
              "       [0.53079677],\n",
              "       [0.5278084 ],\n",
              "       [0.5219431 ],\n",
              "       [0.59476864],\n",
              "       [0.44487494],\n",
              "       [0.72613394],\n",
              "       [0.5542872 ],\n",
              "       [0.5545819 ],\n",
              "       [0.5993801 ],\n",
              "       [0.54131806],\n",
              "       [0.54539573],\n",
              "       [0.44152516],\n",
              "       [0.46454117],\n",
              "       [0.49931845],\n",
              "       [0.47660202],\n",
              "       [0.49892792],\n",
              "       [0.5551485 ],\n",
              "       [0.46766752],\n",
              "       [0.59643304],\n",
              "       [0.46036398],\n",
              "       [0.54131806],\n",
              "       [0.538082  ],\n",
              "       [0.7293996 ],\n",
              "       [0.58341455],\n",
              "       [0.61031735],\n",
              "       [0.55950636],\n",
              "       [0.44282195],\n",
              "       [0.77626   ],\n",
              "       [0.51904386],\n",
              "       [0.6027519 ],\n",
              "       [0.5293075 ],\n",
              "       [0.8151138 ],\n",
              "       [0.6282755 ],\n",
              "       [0.50331086],\n",
              "       [0.4929187 ],\n",
              "       [0.7904203 ],\n",
              "       [0.50390923],\n",
              "       [0.49006408],\n",
              "       [0.51209897],\n",
              "       [0.5634848 ],\n",
              "       [0.5121024 ],\n",
              "       [0.5575992 ],\n",
              "       [0.4601909 ],\n",
              "       [0.7465297 ],\n",
              "       [0.80106807],\n",
              "       [0.5345438 ],\n",
              "       [0.46459284],\n",
              "       [0.51761687],\n",
              "       [0.4806126 ],\n",
              "       [0.44239175],\n",
              "       [0.6908634 ],\n",
              "       [0.7691989 ],\n",
              "       [0.7126866 ],\n",
              "       [0.51904625],\n",
              "       [0.5273981 ],\n",
              "       [0.51300764],\n",
              "       [0.5622211 ],\n",
              "       [0.4841911 ],\n",
              "       [0.48569223],\n",
              "       [0.5353177 ],\n",
              "       [0.4779281 ],\n",
              "       [0.759609  ],\n",
              "       [0.5542872 ],\n",
              "       [0.48403582],\n",
              "       [0.52908593],\n",
              "       [0.4719891 ],\n",
              "       [0.72403836],\n",
              "       [0.52970415],\n",
              "       [0.6239751 ],\n",
              "       [0.5154983 ],\n",
              "       [0.77295494],\n",
              "       [0.76243913],\n",
              "       [0.509304  ],\n",
              "       [0.7537099 ],\n",
              "       [0.50500894],\n",
              "       [0.46086016],\n",
              "       [0.534846  ],\n",
              "       [0.59558   ],\n",
              "       [0.5198231 ],\n",
              "       [0.46368635],\n",
              "       [0.5923919 ],\n",
              "       [0.73684484],\n",
              "       [0.5449645 ],\n",
              "       [0.46368763],\n",
              "       [0.5164807 ],\n",
              "       [0.5613437 ],\n",
              "       [0.82256186],\n",
              "       [0.47788304],\n",
              "       [0.55649465],\n",
              "       [0.49310207],\n",
              "       [0.7354588 ],\n",
              "       [0.56311816],\n",
              "       [0.5593987 ],\n",
              "       [0.72237784],\n",
              "       [0.5969501 ],\n",
              "       [0.495062  ],\n",
              "       [0.5572034 ],\n",
              "       [0.5262097 ],\n",
              "       [0.50244355],\n",
              "       [0.5653381 ],\n",
              "       [0.781738  ],\n",
              "       [0.7815769 ],\n",
              "       [0.5530487 ],\n",
              "       [0.56951046],\n",
              "       [0.48650214],\n",
              "       [0.4924934 ],\n",
              "       [0.5536655 ],\n",
              "       [0.7447262 ],\n",
              "       [0.49877402],\n",
              "       [0.57177395],\n",
              "       [0.56399924],\n",
              "       [0.5003808 ],\n",
              "       [0.5882365 ],\n",
              "       [0.5475377 ],\n",
              "       [0.47260138],\n",
              "       [0.59943455],\n",
              "       [0.5604207 ],\n",
              "       [0.55912584],\n",
              "       [0.8052565 ],\n",
              "       [0.7431982 ],\n",
              "       [0.50396085],\n",
              "       [0.46502268],\n",
              "       [0.5311249 ],\n",
              "       [0.51235473],\n",
              "       [0.58963263],\n",
              "       [0.5840038 ],\n",
              "       [0.5382718 ],\n",
              "       [0.5055477 ],\n",
              "       [0.45648345],\n",
              "       [0.5575704 ],\n",
              "       [0.44625863],\n",
              "       [0.7331376 ],\n",
              "       [0.5634848 ],\n",
              "       [0.49457493],\n",
              "       [0.51289916],\n",
              "       [0.5544789 ],\n",
              "       [0.5536655 ],\n",
              "       [0.51901954],\n",
              "       [0.5667089 ],\n",
              "       [0.5040308 ],\n",
              "       [0.5724654 ],\n",
              "       [0.8070752 ],\n",
              "       [0.8202522 ],\n",
              "       [0.76597905],\n",
              "       [0.5324228 ],\n",
              "       [0.72515273],\n",
              "       [0.6022036 ],\n",
              "       [0.5900542 ],\n",
              "       [0.5446797 ],\n",
              "       [0.48648244],\n",
              "       [0.76402056],\n",
              "       [0.5929108 ],\n",
              "       [0.44643232],\n",
              "       [0.8058075 ],\n",
              "       [0.84458923],\n",
              "       [0.49895152],\n",
              "       [0.5117925 ],\n",
              "       [0.45878965],\n",
              "       [0.5702895 ],\n",
              "       [0.59273857],\n",
              "       [0.7499612 ],\n",
              "       [0.55402666],\n",
              "       [0.5493567 ],\n",
              "       [0.5154818 ],\n",
              "       [0.555976  ],\n",
              "       [0.4773668 ],\n",
              "       [0.51235473],\n",
              "       [0.53571683],\n",
              "       [0.5022595 ],\n",
              "       [0.7520665 ],\n",
              "       [0.8136383 ],\n",
              "       [0.59280235],\n",
              "       [0.76275265],\n",
              "       [0.5495353 ],\n",
              "       [0.5949433 ],\n",
              "       [0.57536054],\n",
              "       [0.5286269 ],\n",
              "       [0.5544789 ],\n",
              "       [0.49426293],\n",
              "       [0.5985486 ],\n",
              "       [0.5187998 ],\n",
              "       [0.7615087 ],\n",
              "       [0.7559596 ],\n",
              "       [0.77344096],\n",
              "       [0.5099542 ],\n",
              "       [0.53788596],\n",
              "       [0.7928784 ],\n",
              "       [0.7495502 ],\n",
              "       [0.5563573 ],\n",
              "       [0.5042112 ],\n",
              "       [0.51371163],\n",
              "       [0.81342816],\n",
              "       [0.5579983 ],\n",
              "       [0.8172039 ],\n",
              "       [0.5230314 ],\n",
              "       [0.7648989 ],\n",
              "       [0.5009713 ],\n",
              "       [0.7731605 ],\n",
              "       [0.49177492],\n",
              "       [0.5503354 ],\n",
              "       [0.47174013],\n",
              "       [0.4890234 ],\n",
              "       [0.514613  ],\n",
              "       [0.5110149 ],\n",
              "       [0.5459974 ],\n",
              "       [0.55335295],\n",
              "       [0.45891073],\n",
              "       [0.60044765],\n",
              "       [0.50901526],\n",
              "       [0.5123071 ],\n",
              "       [0.7905235 ],\n",
              "       [0.52025586],\n",
              "       [0.4893427 ],\n",
              "       [0.5089006 ],\n",
              "       [0.7975821 ],\n",
              "       [0.5264768 ],\n",
              "       [0.7672185 ],\n",
              "       [0.4783871 ],\n",
              "       [0.56478226],\n",
              "       [0.7753178 ],\n",
              "       [0.7773484 ],\n",
              "       [0.5821582 ],\n",
              "       [0.5327398 ],\n",
              "       [0.5046421 ],\n",
              "       [0.48457673],\n",
              "       [0.771171  ],\n",
              "       [0.46122938],\n",
              "       [0.5170603 ],\n",
              "       [0.5227589 ],\n",
              "       [0.7846143 ],\n",
              "       [0.5458154 ],\n",
              "       [0.4852392 ],\n",
              "       [0.59136343],\n",
              "       [0.5178238 ],\n",
              "       [0.5689753 ],\n",
              "       [0.7852119 ],\n",
              "       [0.5484289 ],\n",
              "       [0.74048895],\n",
              "       [0.77209824],\n",
              "       [0.44650376],\n",
              "       [0.7798619 ],\n",
              "       [0.7662097 ],\n",
              "       [0.45520437],\n",
              "       [0.5575704 ],\n",
              "       [0.48830125],\n",
              "       [0.5545819 ],\n",
              "       [0.49320665],\n",
              "       [0.7787963 ],\n",
              "       [0.74605745],\n",
              "       [0.6274835 ],\n",
              "       [0.61230236],\n",
              "       [0.8395862 ],\n",
              "       [0.63011104],\n",
              "       [0.786657  ],\n",
              "       [0.55335295],\n",
              "       [0.5327398 ],\n",
              "       [0.8008983 ],\n",
              "       [0.5036155 ],\n",
              "       [0.4864273 ],\n",
              "       [0.5449645 ],\n",
              "       [0.71469384],\n",
              "       [0.49457493],\n",
              "       [0.50926864],\n",
              "       [0.5020011 ],\n",
              "       [0.49915326],\n",
              "       [0.48224813],\n",
              "       [0.57928157],\n",
              "       [0.5704386 ],\n",
              "       [0.5021941 ],\n",
              "       [0.7254201 ],\n",
              "       [0.515606  ],\n",
              "       [0.4881689 ],\n",
              "       [0.53292245],\n",
              "       [0.8094903 ],\n",
              "       [0.5054447 ],\n",
              "       [0.50355655],\n",
              "       [0.5475586 ],\n",
              "       [0.57171184],\n",
              "       [0.5820221 ],\n",
              "       [0.48913795],\n",
              "       [0.5035876 ],\n",
              "       [0.5120746 ],\n",
              "       [0.6342839 ],\n",
              "       [0.5301346 ],\n",
              "       [0.72841513],\n",
              "       [0.5661565 ],\n",
              "       [0.76635534],\n",
              "       [0.4917049 ],\n",
              "       [0.50197744],\n",
              "       [0.44806486],\n",
              "       [0.54799616],\n",
              "       [0.56393224],\n",
              "       [0.7680582 ],\n",
              "       [0.51688015],\n",
              "       [0.5911152 ],\n",
              "       [0.58619916],\n",
              "       [0.5294714 ],\n",
              "       [0.5278084 ],\n",
              "       [0.5390235 ],\n",
              "       [0.5017768 ],\n",
              "       [0.5849734 ],\n",
              "       [0.5291444 ],\n",
              "       [0.55649465],\n",
              "       [0.4864687 ],\n",
              "       [0.50131637],\n",
              "       [0.759735  ],\n",
              "       [0.51390535],\n",
              "       [0.5475586 ],\n",
              "       [0.76338655],\n",
              "       [0.5949433 ],\n",
              "       [0.8020579 ],\n",
              "       [0.58313316],\n",
              "       [0.52525884],\n",
              "       [0.57047516],\n",
              "       [0.5528475 ],\n",
              "       [0.78720695],\n",
              "       [0.5294714 ],\n",
              "       [0.5482104 ],\n",
              "       [0.5563573 ],\n",
              "       [0.75233406],\n",
              "       [0.5934106 ],\n",
              "       [0.46323386],\n",
              "       [0.44604763],\n",
              "       [0.53788596],\n",
              "       [0.706467  ],\n",
              "       [0.6109877 ],\n",
              "       [0.59498113],\n",
              "       [0.7518512 ],\n",
              "       [0.5170603 ],\n",
              "       [0.5287679 ],\n",
              "       [0.46497056],\n",
              "       [0.51817846],\n",
              "       [0.5429791 ],\n",
              "       [0.5812368 ],\n",
              "       [0.49017236],\n",
              "       [0.44313765],\n",
              "       [0.5073151 ],\n",
              "       [0.7010021 ],\n",
              "       [0.48046437],\n",
              "       [0.7868991 ],\n",
              "       [0.4568955 ],\n",
              "       [0.52507955],\n",
              "       [0.5875027 ],\n",
              "       [0.5281852 ],\n",
              "       [0.58341455],\n",
              "       [0.4455267 ],\n",
              "       [0.47270122],\n",
              "       [0.57167536],\n",
              "       [0.4584226 ],\n",
              "       [0.55331504],\n",
              "       [0.4584226 ],\n",
              "       [0.7946415 ],\n",
              "       [0.54422206],\n",
              "       [0.48815244],\n",
              "       [0.4659127 ],\n",
              "       [0.7627232 ],\n",
              "       [0.49349007],\n",
              "       [0.80721974],\n",
              "       [0.4867589 ],\n",
              "       [0.49730897],\n",
              "       [0.5193141 ],\n",
              "       [0.5053367 ],\n",
              "       [0.45648345],\n",
              "       [0.5575992 ],\n",
              "       [0.7729277 ],\n",
              "       [0.52523017],\n",
              "       [0.48082578],\n",
              "       [0.5129845 ],\n",
              "       [0.78678733],\n",
              "       [0.48055825],\n",
              "       [0.55872744],\n",
              "       [0.48346183],\n",
              "       [0.4825645 ],\n",
              "       [0.5098323 ],\n",
              "       [0.55508524],\n",
              "       [0.528433  ],\n",
              "       [0.4773668 ],\n",
              "       [0.44790807],\n",
              "       [0.75039506],\n",
              "       [0.55402666],\n",
              "       [0.5110787 ],\n",
              "       [0.46903268],\n",
              "       [0.7672398 ],\n",
              "       [0.4869884 ],\n",
              "       [0.568039  ],\n",
              "       [0.58137107],\n",
              "       [0.48643053],\n",
              "       [0.5459974 ],\n",
              "       [0.5091312 ],\n",
              "       [0.50010353],\n",
              "       [0.6274475 ],\n",
              "       [0.5794176 ],\n",
              "       [0.56853366],\n",
              "       [0.5586706 ],\n",
              "       [0.49388885],\n",
              "       [0.54461855],\n",
              "       [0.72778326],\n",
              "       [0.5718127 ],\n",
              "       [0.55258673],\n",
              "       [0.57870865],\n",
              "       [0.74454963],\n",
              "       [0.5704468 ],\n",
              "       [0.4696833 ],\n",
              "       [0.5487024 ],\n",
              "       [0.54121435],\n",
              "       [0.5047037 ],\n",
              "       [0.52878535],\n",
              "       [0.5551485 ],\n",
              "       [0.5805143 ],\n",
              "       [0.55912584],\n",
              "       [0.5741084 ],\n",
              "       [0.77089036],\n",
              "       [0.55789536],\n",
              "       [0.53852344],\n",
              "       [0.7941525 ],\n",
              "       [0.5159964 ]], dtype=float32)"
            ]
          },
          "metadata": {},
          "execution_count": 102
        }
      ]
    },
    {
      "cell_type": "markdown",
      "metadata": {
        "id": "SYcTu21_REHP"
      },
      "source": [
        "# Evaluation"
      ]
    },
    {
      "cell_type": "code",
      "execution_count": 90,
      "metadata": {
        "id": "sXwaAUb-REHP"
      },
      "outputs": [],
      "source": [
        "import cv2\n",
        "import glob\n",
        "import random\n",
        "import numpy as np"
      ]
    },
    {
      "cell_type": "code",
      "execution_count": 76,
      "metadata": {
        "colab": {
          "base_uri": "https://localhost:8080/",
          "height": 311
        },
        "id": "oWLnlwSGREHP",
        "outputId": "62d3382e-d330-4c3a-8b50-3f897f03bbb5"
      },
      "outputs": [
        {
          "output_type": "error",
          "ename": "OSError",
          "evalue": "ignored",
          "traceback": [
            "\u001b[0;31m---------------------------------------------------------------------------\u001b[0m",
            "\u001b[0;31mOSError\u001b[0m                                   Traceback (most recent call last)",
            "\u001b[0;32m<ipython-input-76-3f38e40a6289>\u001b[0m in \u001b[0;36m<module>\u001b[0;34m()\u001b[0m\n\u001b[0;32m----> 1\u001b[0;31m \u001b[0mtest_model\u001b[0m \u001b[0;34m=\u001b[0m \u001b[0mload_model\u001b[0m\u001b[0;34m(\u001b[0m\u001b[0;34m\"weights_25/weights.176.h5\"\u001b[0m\u001b[0;34m)\u001b[0m\u001b[0;34m\u001b[0m\u001b[0;34m\u001b[0m\u001b[0m\n\u001b[0m",
            "\u001b[0;32m/usr/local/lib/python3.7/dist-packages/keras/utils/traceback_utils.py\u001b[0m in \u001b[0;36merror_handler\u001b[0;34m(*args, **kwargs)\u001b[0m\n\u001b[1;32m     65\u001b[0m     \u001b[0;32mexcept\u001b[0m \u001b[0mException\u001b[0m \u001b[0;32mas\u001b[0m \u001b[0me\u001b[0m\u001b[0;34m:\u001b[0m  \u001b[0;31m# pylint: disable=broad-except\u001b[0m\u001b[0;34m\u001b[0m\u001b[0;34m\u001b[0m\u001b[0m\n\u001b[1;32m     66\u001b[0m       \u001b[0mfiltered_tb\u001b[0m \u001b[0;34m=\u001b[0m \u001b[0m_process_traceback_frames\u001b[0m\u001b[0;34m(\u001b[0m\u001b[0me\u001b[0m\u001b[0;34m.\u001b[0m\u001b[0m__traceback__\u001b[0m\u001b[0;34m)\u001b[0m\u001b[0;34m\u001b[0m\u001b[0;34m\u001b[0m\u001b[0m\n\u001b[0;32m---> 67\u001b[0;31m       \u001b[0;32mraise\u001b[0m \u001b[0me\u001b[0m\u001b[0;34m.\u001b[0m\u001b[0mwith_traceback\u001b[0m\u001b[0;34m(\u001b[0m\u001b[0mfiltered_tb\u001b[0m\u001b[0;34m)\u001b[0m \u001b[0;32mfrom\u001b[0m \u001b[0;32mNone\u001b[0m\u001b[0;34m\u001b[0m\u001b[0;34m\u001b[0m\u001b[0m\n\u001b[0m\u001b[1;32m     68\u001b[0m     \u001b[0;32mfinally\u001b[0m\u001b[0;34m:\u001b[0m\u001b[0;34m\u001b[0m\u001b[0;34m\u001b[0m\u001b[0m\n\u001b[1;32m     69\u001b[0m       \u001b[0;32mdel\u001b[0m \u001b[0mfiltered_tb\u001b[0m\u001b[0;34m\u001b[0m\u001b[0;34m\u001b[0m\u001b[0m\n",
            "\u001b[0;32m/usr/local/lib/python3.7/dist-packages/keras/saving/save.py\u001b[0m in \u001b[0;36mload_model\u001b[0;34m(filepath, custom_objects, compile, options)\u001b[0m\n\u001b[1;32m    202\u001b[0m         \u001b[0;32mif\u001b[0m \u001b[0misinstance\u001b[0m\u001b[0;34m(\u001b[0m\u001b[0mfilepath_str\u001b[0m\u001b[0;34m,\u001b[0m \u001b[0mstr\u001b[0m\u001b[0;34m)\u001b[0m\u001b[0;34m:\u001b[0m\u001b[0;34m\u001b[0m\u001b[0;34m\u001b[0m\u001b[0m\n\u001b[1;32m    203\u001b[0m           \u001b[0;32mif\u001b[0m \u001b[0;32mnot\u001b[0m \u001b[0mtf\u001b[0m\u001b[0;34m.\u001b[0m\u001b[0mio\u001b[0m\u001b[0;34m.\u001b[0m\u001b[0mgfile\u001b[0m\u001b[0;34m.\u001b[0m\u001b[0mexists\u001b[0m\u001b[0;34m(\u001b[0m\u001b[0mfilepath_str\u001b[0m\u001b[0;34m)\u001b[0m\u001b[0;34m:\u001b[0m\u001b[0;34m\u001b[0m\u001b[0;34m\u001b[0m\u001b[0m\n\u001b[0;32m--> 204\u001b[0;31m             \u001b[0;32mraise\u001b[0m \u001b[0mIOError\u001b[0m\u001b[0;34m(\u001b[0m\u001b[0;34mf'No file or directory found at {filepath_str}'\u001b[0m\u001b[0;34m)\u001b[0m\u001b[0;34m\u001b[0m\u001b[0;34m\u001b[0m\u001b[0m\n\u001b[0m\u001b[1;32m    205\u001b[0m \u001b[0;34m\u001b[0m\u001b[0m\n\u001b[1;32m    206\u001b[0m           \u001b[0;32mif\u001b[0m \u001b[0mtf\u001b[0m\u001b[0;34m.\u001b[0m\u001b[0mio\u001b[0m\u001b[0;34m.\u001b[0m\u001b[0mgfile\u001b[0m\u001b[0;34m.\u001b[0m\u001b[0misdir\u001b[0m\u001b[0;34m(\u001b[0m\u001b[0mfilepath_str\u001b[0m\u001b[0;34m)\u001b[0m\u001b[0;34m:\u001b[0m\u001b[0;34m\u001b[0m\u001b[0;34m\u001b[0m\u001b[0m\n",
            "\u001b[0;31mOSError\u001b[0m: No file or directory found at weights_25/weights.176.h5"
          ]
        }
      ],
      "source": [
        "test_model = load_model(\"weights_25/weights.176.h5\")"
      ]
    },
    {
      "cell_type": "code",
      "execution_count": 77,
      "metadata": {
        "id": "lL5tijueREHQ"
      },
      "outputs": [],
      "source": [
        "root_img_path =\"/content/gdrive/MyDrive/My Drive/My Drive/images/extracted_25x25/test\""
      ]
    },
    {
      "cell_type": "code",
      "execution_count": 78,
      "metadata": {
        "id": "tCRPmIFaREHQ"
      },
      "outputs": [],
      "source": [
        "def load_images(img_path):\n",
        "    return np.array([cv2.imread(img_path+file) for file in os.listdir(img_path)])"
      ]
    },
    {
      "cell_type": "code",
      "execution_count": 79,
      "metadata": {
        "id": "wIfyjSWjREHR"
      },
      "outputs": [],
      "source": [
        "def get_label(prediction,idx):\n",
        "    if prediction[idx]<0.5:\n",
        "        return \"Negative\"\n",
        "    return \"Positive\""
      ]
    },
    {
      "cell_type": "code",
      "execution_count": 80,
      "metadata": {
        "id": "i3mnUbpxREHR"
      },
      "outputs": [],
      "source": [
        "def get_neg_class(prediction_class, N):\n",
        "    arr = []\n",
        "    while len(arr)<N+1:\n",
        "        idx = random.randint(0,len(prediction_class)-1)\n",
        "        if prediction_class[idx]<0.5 and idx not in arr:\n",
        "            arr.append(idx)\n",
        "    return arr"
      ]
    },
    {
      "cell_type": "code",
      "execution_count": 81,
      "metadata": {
        "id": "BAwaHF-lREHR"
      },
      "outputs": [],
      "source": [
        "def get_pos_class(prediction_class, N):\n",
        "    arr = []\n",
        "    while len(arr)<N+1:\n",
        "        idx = random.randint(0,len(prediction_class)-1)\n",
        "        if prediction_class[idx]>=0.5 and idx not in arr:\n",
        "            arr.append(idx)\n",
        "    return arr"
      ]
    },
    {
      "cell_type": "code",
      "execution_count": 82,
      "metadata": {
        "id": "30FReCkQREHS"
      },
      "outputs": [],
      "source": [
        "# Create positive and negative batch for predictions\n",
        "positive_batch = load_images(os.path.join(root_img_path,\"positive/\"))\n",
        "negative_batch = load_images(os.path.join(root_img_path,\"negative/\"))"
      ]
    },
    {
      "cell_type": "code",
      "execution_count": 83,
      "metadata": {
        "colab": {
          "base_uri": "https://localhost:8080/"
        },
        "id": "g1ybVW9-REHS",
        "outputId": "467a621d-2fa6-4cbf-ae71-b69c19117beb"
      },
      "outputs": [
        {
          "output_type": "execute_result",
          "data": {
            "text/plain": [
              "76"
            ]
          },
          "metadata": {},
          "execution_count": 83
        }
      ],
      "source": [
        "# Predictions for positive class\n",
        "predicted_pos = model.predict_on_batch(positive_batch)\n",
        "len(predicted_pos)"
      ]
    },
    {
      "cell_type": "code",
      "execution_count": 84,
      "metadata": {
        "colab": {
          "base_uri": "https://localhost:8080/"
        },
        "id": "l_QYUPg5REHT",
        "outputId": "f3b33f31-955a-4dff-9b9f-6ccd0f7f9f08"
      },
      "outputs": [
        {
          "output_type": "execute_result",
          "data": {
            "text/plain": [
              "354"
            ]
          },
          "metadata": {},
          "execution_count": 84
        }
      ],
      "source": [
        "# Predictions for negative class\n",
        "predicted_neg = model.predict_on_batch(negative_batch)\n",
        "len(predicted_neg)"
      ]
    },
    {
      "cell_type": "code",
      "execution_count": 85,
      "metadata": {
        "colab": {
          "base_uri": "https://localhost:8080/"
        },
        "id": "prFvNuUQREHT",
        "outputId": "6e5cb261-cf8d-48df-c4e6-fc398a1a4b9e"
      },
      "outputs": [
        {
          "output_type": "stream",
          "name": "stdout",
          "text": [
            "Positive examples classified positive (TP):  76\n",
            "Positive examples classified negative (FN):  0\n"
          ]
        }
      ],
      "source": [
        "# Get TP(True Positives) and FN(False Negatives)\n",
        "TP = [p for p in predicted_pos if p >=0.5]\n",
        "FN = [p for p in predicted_pos if p<0.5]\n",
        "print(\"Positive examples classified positive (TP): \",len(TP))\n",
        "print(\"Positive examples classified negative (FN): \",len(FN))"
      ]
    },
    {
      "cell_type": "code",
      "execution_count": 86,
      "metadata": {
        "colab": {
          "base_uri": "https://localhost:8080/"
        },
        "id": "LgtY2skeREHU",
        "outputId": "672400d6-1b54-4042-d333-d85b9825833a"
      },
      "outputs": [
        {
          "output_type": "stream",
          "name": "stdout",
          "text": [
            "Negative examples classified positive (FP):  354\n",
            "Negative examples classified negative (TN):  0\n"
          ]
        }
      ],
      "source": [
        "# Get TN(True Negatives) and FP(False Positives)\n",
        "FP = [p for p in predicted_neg if p >=0.5]\n",
        "TN = [p for p in predicted_neg if p<0.5]\n",
        "print(\"Negative examples classified positive (FP): \",len(FP))\n",
        "print(\"Negative examples classified negative (TN): \",len(TN))"
      ]
    },
    {
      "cell_type": "code",
      "execution_count": 87,
      "metadata": {
        "id": "MnAO3xcfREHU"
      },
      "outputs": [],
      "source": [
        "def get_confusion_matrix(tp, fp, tn, fn):\n",
        "    pr = tp/(tp+fp)\n",
        "    rc = tp/(tp+fn)\n",
        "    f1_score = 2*((pr*rc)/(pr+rc))\n",
        "    print(\"TP \\t FP \\t TN \\t FN\\n\")\n",
        "    print(str(tp)+\"\\t\"+str(fp)+\"\\t\"+str(tn)+\"\\t\"+str(fn))\n",
        "    return pr, rc, f1_score"
      ]
    },
    {
      "cell_type": "code",
      "execution_count": 88,
      "metadata": {
        "colab": {
          "base_uri": "https://localhost:8080/"
        },
        "id": "IaeaIXTLREHU",
        "outputId": "583b2bc3-641f-4efd-b182-aa6b9b70c8eb"
      },
      "outputs": [
        {
          "output_type": "stream",
          "name": "stdout",
          "text": [
            "TP \t FP \t TN \t FN\n",
            "\n",
            "76\t354\t0\t0\n",
            "\n",
            "\n",
            "Precision:\t    0.1767\n",
            "Recall:\t\t    1.0000\n",
            "F1_Score:\t    0.3004\n"
          ]
        }
      ],
      "source": [
        "# Confusion matrix\n",
        "Precision, Recall, F1_Score = get_confusion_matrix(len(TP),len(FP),len(TN),len(FN))\n",
        "print(\"\\n\")\n",
        "print(\"Precision:\\t\",f'{Precision:9.4f}')\n",
        "print(\"Recall:\\t\\t\",f'{Recall:9.4f}')\n",
        "print(\"F1_Score:\\t\",f'{F1_Score:9.4f}')"
      ]
    },
    {
      "cell_type": "markdown",
      "metadata": {
        "id": "9_fH0SnLREHV"
      },
      "source": [
        "# Visualization"
      ]
    },
    {
      "cell_type": "code",
      "execution_count": 89,
      "metadata": {
        "colab": {
          "base_uri": "https://localhost:8080/",
          "height": 381
        },
        "id": "43DcKrxWREHV",
        "outputId": "d5cf808a-e787-4b9c-a15b-52127dfd9fb0"
      },
      "outputs": [
        {
          "output_type": "error",
          "ename": "KeyboardInterrupt",
          "evalue": "ignored",
          "traceback": [
            "\u001b[0;31m---------------------------------------------------------------------------\u001b[0m",
            "\u001b[0;31mKeyboardInterrupt\u001b[0m                         Traceback (most recent call last)",
            "\u001b[0;32m<ipython-input-89-74c7b541e5a4>\u001b[0m in \u001b[0;36m<module>\u001b[0;34m()\u001b[0m\n\u001b[1;32m      2\u001b[0m \u001b[0mN\u001b[0m\u001b[0;34m=\u001b[0m \u001b[0;36m10\u001b[0m\u001b[0;34m\u001b[0m\u001b[0;34m\u001b[0m\u001b[0m\n\u001b[1;32m      3\u001b[0m \u001b[0mtrue_pos_indices\u001b[0m \u001b[0;34m=\u001b[0m \u001b[0mget_pos_class\u001b[0m\u001b[0;34m(\u001b[0m\u001b[0mpredicted_pos\u001b[0m\u001b[0;34m,\u001b[0m \u001b[0mN\u001b[0m\u001b[0;34m)\u001b[0m\u001b[0;34m\u001b[0m\u001b[0;34m\u001b[0m\u001b[0m\n\u001b[0;32m----> 4\u001b[0;31m \u001b[0mfalse_neg_indices\u001b[0m \u001b[0;34m=\u001b[0m \u001b[0mget_neg_class\u001b[0m\u001b[0;34m(\u001b[0m\u001b[0mpredicted_pos\u001b[0m\u001b[0;34m,\u001b[0m \u001b[0mN\u001b[0m\u001b[0;34m)\u001b[0m\u001b[0;34m\u001b[0m\u001b[0;34m\u001b[0m\u001b[0m\n\u001b[0m\u001b[1;32m      5\u001b[0m \u001b[0mfalse_pos_indices\u001b[0m \u001b[0;34m=\u001b[0m \u001b[0mget_pos_class\u001b[0m\u001b[0;34m(\u001b[0m\u001b[0mpredicted_neg\u001b[0m\u001b[0;34m,\u001b[0m \u001b[0mN\u001b[0m\u001b[0;34m)\u001b[0m\u001b[0;34m\u001b[0m\u001b[0;34m\u001b[0m\u001b[0m\n\u001b[1;32m      6\u001b[0m \u001b[0mtrue_neg_indices\u001b[0m \u001b[0;34m=\u001b[0m \u001b[0mget_neg_class\u001b[0m\u001b[0;34m(\u001b[0m\u001b[0mpredicted_neg\u001b[0m\u001b[0;34m,\u001b[0m \u001b[0mN\u001b[0m\u001b[0;34m)\u001b[0m\u001b[0;34m\u001b[0m\u001b[0;34m\u001b[0m\u001b[0m\n",
            "\u001b[0;32m<ipython-input-80-eed54833124a>\u001b[0m in \u001b[0;36mget_neg_class\u001b[0;34m(prediction_class, N)\u001b[0m\n\u001b[1;32m      2\u001b[0m     \u001b[0marr\u001b[0m \u001b[0;34m=\u001b[0m \u001b[0;34m[\u001b[0m\u001b[0;34m]\u001b[0m\u001b[0;34m\u001b[0m\u001b[0;34m\u001b[0m\u001b[0m\n\u001b[1;32m      3\u001b[0m     \u001b[0;32mwhile\u001b[0m \u001b[0mlen\u001b[0m\u001b[0;34m(\u001b[0m\u001b[0marr\u001b[0m\u001b[0;34m)\u001b[0m\u001b[0;34m<\u001b[0m\u001b[0mN\u001b[0m\u001b[0;34m+\u001b[0m\u001b[0;36m1\u001b[0m\u001b[0;34m:\u001b[0m\u001b[0;34m\u001b[0m\u001b[0;34m\u001b[0m\u001b[0m\n\u001b[0;32m----> 4\u001b[0;31m         \u001b[0midx\u001b[0m \u001b[0;34m=\u001b[0m \u001b[0mrandom\u001b[0m\u001b[0;34m.\u001b[0m\u001b[0mrandint\u001b[0m\u001b[0;34m(\u001b[0m\u001b[0;36m0\u001b[0m\u001b[0;34m,\u001b[0m\u001b[0mlen\u001b[0m\u001b[0;34m(\u001b[0m\u001b[0mprediction_class\u001b[0m\u001b[0;34m)\u001b[0m\u001b[0;34m-\u001b[0m\u001b[0;36m1\u001b[0m\u001b[0;34m)\u001b[0m\u001b[0;34m\u001b[0m\u001b[0;34m\u001b[0m\u001b[0m\n\u001b[0m\u001b[1;32m      5\u001b[0m         \u001b[0;32mif\u001b[0m \u001b[0mprediction_class\u001b[0m\u001b[0;34m[\u001b[0m\u001b[0midx\u001b[0m\u001b[0;34m]\u001b[0m\u001b[0;34m<\u001b[0m\u001b[0;36m0.5\u001b[0m \u001b[0;32mand\u001b[0m \u001b[0midx\u001b[0m \u001b[0;32mnot\u001b[0m \u001b[0;32min\u001b[0m \u001b[0marr\u001b[0m\u001b[0;34m:\u001b[0m\u001b[0;34m\u001b[0m\u001b[0;34m\u001b[0m\u001b[0m\n\u001b[1;32m      6\u001b[0m             \u001b[0marr\u001b[0m\u001b[0;34m.\u001b[0m\u001b[0mappend\u001b[0m\u001b[0;34m(\u001b[0m\u001b[0midx\u001b[0m\u001b[0;34m)\u001b[0m\u001b[0;34m\u001b[0m\u001b[0;34m\u001b[0m\u001b[0m\n",
            "\u001b[0;32m/usr/lib/python3.7/random.py\u001b[0m in \u001b[0;36mrandint\u001b[0;34m(self, a, b)\u001b[0m\n\u001b[1;32m    220\u001b[0m         \"\"\"\n\u001b[1;32m    221\u001b[0m \u001b[0;34m\u001b[0m\u001b[0m\n\u001b[0;32m--> 222\u001b[0;31m         \u001b[0;32mreturn\u001b[0m \u001b[0mself\u001b[0m\u001b[0;34m.\u001b[0m\u001b[0mrandrange\u001b[0m\u001b[0;34m(\u001b[0m\u001b[0ma\u001b[0m\u001b[0;34m,\u001b[0m \u001b[0mb\u001b[0m\u001b[0;34m+\u001b[0m\u001b[0;36m1\u001b[0m\u001b[0;34m)\u001b[0m\u001b[0;34m\u001b[0m\u001b[0;34m\u001b[0m\u001b[0m\n\u001b[0m\u001b[1;32m    223\u001b[0m \u001b[0;34m\u001b[0m\u001b[0m\n\u001b[1;32m    224\u001b[0m     def _randbelow(self, n, int=int, maxsize=1<<BPF, type=type,\n",
            "\u001b[0;32m/usr/lib/python3.7/random.py\u001b[0m in \u001b[0;36mrandrange\u001b[0;34m(self, start, stop, step, _int)\u001b[0m\n\u001b[1;32m    196\u001b[0m         \u001b[0mwidth\u001b[0m \u001b[0;34m=\u001b[0m \u001b[0mistop\u001b[0m \u001b[0;34m-\u001b[0m \u001b[0mistart\u001b[0m\u001b[0;34m\u001b[0m\u001b[0;34m\u001b[0m\u001b[0m\n\u001b[1;32m    197\u001b[0m         \u001b[0;32mif\u001b[0m \u001b[0mstep\u001b[0m \u001b[0;34m==\u001b[0m \u001b[0;36m1\u001b[0m \u001b[0;32mand\u001b[0m \u001b[0mwidth\u001b[0m \u001b[0;34m>\u001b[0m \u001b[0;36m0\u001b[0m\u001b[0;34m:\u001b[0m\u001b[0;34m\u001b[0m\u001b[0;34m\u001b[0m\u001b[0m\n\u001b[0;32m--> 198\u001b[0;31m             \u001b[0;32mreturn\u001b[0m \u001b[0mistart\u001b[0m \u001b[0;34m+\u001b[0m \u001b[0mself\u001b[0m\u001b[0;34m.\u001b[0m\u001b[0m_randbelow\u001b[0m\u001b[0;34m(\u001b[0m\u001b[0mwidth\u001b[0m\u001b[0;34m)\u001b[0m\u001b[0;34m\u001b[0m\u001b[0;34m\u001b[0m\u001b[0m\n\u001b[0m\u001b[1;32m    199\u001b[0m         \u001b[0;32mif\u001b[0m \u001b[0mstep\u001b[0m \u001b[0;34m==\u001b[0m \u001b[0;36m1\u001b[0m\u001b[0;34m:\u001b[0m\u001b[0;34m\u001b[0m\u001b[0;34m\u001b[0m\u001b[0m\n\u001b[1;32m    200\u001b[0m             \u001b[0;32mraise\u001b[0m \u001b[0mValueError\u001b[0m\u001b[0;34m(\u001b[0m\u001b[0;34m\"empty range for randrange() (%d,%d, %d)\"\u001b[0m \u001b[0;34m%\u001b[0m \u001b[0;34m(\u001b[0m\u001b[0mistart\u001b[0m\u001b[0;34m,\u001b[0m \u001b[0mistop\u001b[0m\u001b[0;34m,\u001b[0m \u001b[0mwidth\u001b[0m\u001b[0;34m)\u001b[0m\u001b[0;34m)\u001b[0m\u001b[0;34m\u001b[0m\u001b[0;34m\u001b[0m\u001b[0m\n",
            "\u001b[0;32m/usr/lib/python3.7/random.py\u001b[0m in \u001b[0;36m_randbelow\u001b[0;34m(self, n, int, maxsize, type, Method, BuiltinMethod)\u001b[0m\n\u001b[1;32m    230\u001b[0m         \u001b[0;31m# Only call self.getrandbits if the original random() builtin method\u001b[0m\u001b[0;34m\u001b[0m\u001b[0;34m\u001b[0m\u001b[0;34m\u001b[0m\u001b[0m\n\u001b[1;32m    231\u001b[0m         \u001b[0;31m# has not been overridden or if a new getrandbits() was supplied.\u001b[0m\u001b[0;34m\u001b[0m\u001b[0;34m\u001b[0m\u001b[0;34m\u001b[0m\u001b[0m\n\u001b[0;32m--> 232\u001b[0;31m         \u001b[0;32mif\u001b[0m \u001b[0mtype\u001b[0m\u001b[0;34m(\u001b[0m\u001b[0mrandom\u001b[0m\u001b[0;34m)\u001b[0m \u001b[0;32mis\u001b[0m \u001b[0mBuiltinMethod\u001b[0m \u001b[0;32mor\u001b[0m \u001b[0mtype\u001b[0m\u001b[0;34m(\u001b[0m\u001b[0mgetrandbits\u001b[0m\u001b[0;34m)\u001b[0m \u001b[0;32mis\u001b[0m \u001b[0mMethod\u001b[0m\u001b[0;34m:\u001b[0m\u001b[0;34m\u001b[0m\u001b[0;34m\u001b[0m\u001b[0m\n\u001b[0m\u001b[1;32m    233\u001b[0m             \u001b[0mk\u001b[0m \u001b[0;34m=\u001b[0m \u001b[0mn\u001b[0m\u001b[0;34m.\u001b[0m\u001b[0mbit_length\u001b[0m\u001b[0;34m(\u001b[0m\u001b[0;34m)\u001b[0m  \u001b[0;31m# don't use (n-1) here because n can be 1\u001b[0m\u001b[0;34m\u001b[0m\u001b[0;34m\u001b[0m\u001b[0m\n\u001b[1;32m    234\u001b[0m             \u001b[0mr\u001b[0m \u001b[0;34m=\u001b[0m \u001b[0mgetrandbits\u001b[0m\u001b[0;34m(\u001b[0m\u001b[0mk\u001b[0m\u001b[0;34m)\u001b[0m          \u001b[0;31m# 0 <= r < 2**k\u001b[0m\u001b[0;34m\u001b[0m\u001b[0;34m\u001b[0m\u001b[0m\n",
            "\u001b[0;31mKeyboardInterrupt\u001b[0m: "
          ]
        }
      ],
      "source": [
        "# Get N random examples from each class\n",
        "N= 10\n",
        "true_pos_indices = get_pos_class(predicted_pos, N)\n",
        "false_neg_indices = get_neg_class(predicted_pos, N)\n",
        "false_pos_indices = get_pos_class(predicted_neg, N)\n",
        "true_neg_indices = get_neg_class(predicted_neg, N)"
      ]
    },
    {
      "cell_type": "code",
      "execution_count": null,
      "metadata": {
        "id": "OOXVQ9JnREHW"
      },
      "outputs": [],
      "source": [
        "# Display N patches\n",
        "def display_patches(class_batch,pred_class,patch_indices, N):\n",
        "    plt.figure(figsize=(20,20))\n",
        "    for n in range(1,N+1):\n",
        "        plt.subplot(1,N,n),\n",
        "        plt.title(get_label(pred_class,patch_indices[n-1]))\n",
        "        plt.imshow(class_batch[patch_indices[n-1]])"
      ]
    },
    {
      "cell_type": "code",
      "execution_count": null,
      "metadata": {
        "id": "fZR6EkxaREHW"
      },
      "outputs": [],
      "source": [
        "# Show N True Positive examples\n",
        "display_patches(positive_batch, predicted_pos, true_pos_indices, N)"
      ]
    },
    {
      "cell_type": "code",
      "execution_count": null,
      "metadata": {
        "id": "3WSx_nSCREHW"
      },
      "outputs": [],
      "source": [
        "# Show N False Negative examples\n",
        "display_patches(positive_batch, predicted_pos, false_neg_indices, N)"
      ]
    },
    {
      "cell_type": "code",
      "execution_count": null,
      "metadata": {
        "id": "PFbU2bbNREHX"
      },
      "outputs": [],
      "source": [
        "# Show N True Negative examples\n",
        "display_patches(negative_batch, predicted_neg, true_neg_indices, N)"
      ]
    },
    {
      "cell_type": "code",
      "execution_count": null,
      "metadata": {
        "id": "EIC0bN9QREHX"
      },
      "outputs": [],
      "source": [
        "# Show N False Positive examples\n",
        "display_patches(negative_batch, predicted_neg, false_pos_indices, N)"
      ]
    },
    {
      "cell_type": "code",
      "source": [
        ""
      ],
      "metadata": {
        "id": "tyyI2xnt7BZO"
      },
      "execution_count": null,
      "outputs": []
    }
  ],
  "metadata": {
    "kernelspec": {
      "display_name": "Python 3.9.12 ('tf')",
      "language": "python",
      "name": "python3"
    },
    "language_info": {
      "codemirror_mode": {
        "name": "ipython",
        "version": 3
      },
      "file_extension": ".py",
      "mimetype": "text/x-python",
      "name": "python",
      "nbconvert_exporter": "python",
      "pygments_lexer": "ipython3",
      "version": "3.9.12"
    },
    "vscode": {
      "interpreter": {
        "hash": "e846d499a6a6081ab8f84e08bca890d89f851eed1603d45f04774168a371fee7"
      }
    },
    "colab": {
      "name": "whitefly_25x25.ipynb",
      "provenance": [],
      "include_colab_link": true
    },
    "gpuClass": "standard"
  },
  "nbformat": 4,
  "nbformat_minor": 0
}